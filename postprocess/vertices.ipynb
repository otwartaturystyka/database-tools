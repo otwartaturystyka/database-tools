{
 "cells": [
  {
   "cell_type": "markdown",
   "metadata": {},
   "source": [
    "### Setup"
   ]
  },
  {
   "cell_type": "code",
   "execution_count": null,
   "metadata": {
    "ExecuteTime": {
     "end_time": "2025-04-23T19:51:17.613278Z",
     "start_time": "2025-04-23T19:51:17.610078Z"
    }
   },
   "outputs": [],
   "source": [
    "import json\n",
    "\n",
    "import matplotlib.pyplot as plt\n",
    "import geopandas as gpd\n",
    "import numpy as np\n",
    "from scipy.spatial import ConvexHull\n",
    "import darkdetect\n",
    "\n",
    "if darkdetect.isDark():\n",
    "    plt.style.use('dark_background')\n",
    "else:\n",
    "    plt.style.use('default')"
   ]
  },
  {
   "cell_type": "markdown",
   "metadata": {},
   "source": [
    "### Loading data"
   ]
  },
  {
   "cell_type": "code",
   "execution_count": null,
   "metadata": {
    "ExecuteTime": {
     "end_time": "2025-04-23T19:51:19.303418Z",
     "start_time": "2025-04-23T19:51:19.299015Z"
    }
   },
   "outputs": [],
   "source": [
    "with open('../generated/pilchowice/data.json') as f:\n",
    "    data = json.load(f)\n",
    "\n",
    "places: list[tuple[str, float, float]] = []\n",
    "for section in data['sections']:\n",
    "    for place in section['places']:\n",
    "        places.append((place['id'], place['lng'], place['lat']))\n",
    "\n",
    "coords = np.array([(lng, lat) for _, lng, lat in places])\n",
    "hull = ConvexHull(coords)\n",
    "\n",
    "print(f'center: {coords.mean(0)[0]}')"
   ]
  },
  {
   "cell_type": "markdown",
   "metadata": {},
   "source": [
    "### Printing coordinates of places that most far away"
   ]
  },
  {
   "cell_type": "code",
   "execution_count": null,
   "metadata": {
    "ExecuteTime": {
     "end_time": "2025-04-23T19:51:21.223307Z",
     "start_time": "2025-04-23T19:51:21.220287Z"
    }
   },
   "outputs": [],
   "source": [
    "bounding_indices = np.unique(hull.simplices.flat)\n",
    "\n",
    "bounding_places = [places[i] for i in bounding_indices]\n",
    "for i, place in enumerate(bounding_places):\n",
    "    print(f'vertex {i}, {place[0]}, {place[1]}, {place[2]}')"
   ]
  },
  {
   "cell_type": "markdown",
   "metadata": {},
   "source": [
    "### Chart"
   ]
  },
  {
   "cell_type": "code",
   "execution_count": null,
   "metadata": {
    "ExecuteTime": {
     "end_time": "2025-04-23T19:57:36.800980Z",
     "start_time": "2025-04-23T19:57:36.752074Z"
    }
   },
   "outputs": [],
   "source": [
    "bounding_coords = np.array([(place[1], place[2]) for place in bounding_places])\n",
    "lngs = np.take(bounding_coords, 0, axis=1)\n",
    "lats = np.take(bounding_coords, 1, axis=1)\n",
    "for_plot = np.vstack([lngs, lats])\n",
    "points = np.array(coords)\n",
    "\n",
    "fig, ax = plt.subplots()\n",
    "ax.scatter(points[:,0], points[:,1])\n",
    "for i, simplex in enumerate(hull.simplices):\n",
    "    lng = points[simplex, 0]\n",
    "    lat = points[simplex, 1]\n",
    "    ax.plot(lng, lat, 'r-')\n",
    "\n",
    "    if np.array(simplex[0], simplex[1]) in bounding_indices:\n",
    "        ax.annotate(f'{bounding_places[i][0]}', xy=(for_plot[0, i], for_plot[1, i]), color='orange')"
   ]
  }
 ],
 "metadata": {
  "kernelspec": {
   "display_name": "Python 3.10.4 64-bit ('3.10.4')",
   "language": "python",
   "name": "python3"
  },
  "language_info": {
   "codemirror_mode": {
    "name": "ipython",
    "version": 3
   },
   "file_extension": ".py",
   "mimetype": "text/x-python",
   "name": "python",
   "nbconvert_exporter": "python",
   "pygments_lexer": "ipython3",
   "version": "3.10.4"
  },
  "vscode": {
   "interpreter": {
    "hash": "465a8dd4a56293481405eaad9768dd9712c709b7fd63ba8bc5cc3d7c1a6dccaf"
   }
  }
 },
 "nbformat": 4,
 "nbformat_minor": 2
}
